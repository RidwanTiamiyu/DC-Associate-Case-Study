{
 "cells": [
  {
   "cell_type": "markdown",
   "metadata": {
    "tags": []
   },
   "source": [
    "# Data Scientist Associate Case Study\n",
    "\n",
    "## Company Background\n",
    "GoalZone is a fitness club chain providing five types of fitness classes in Canada. Finally, the fitness classes schedule is back to normal after the COVID-19 restrictions are lifted. However, they have received many complaints from the customers about having a hard time booking a fitness class.\n",
    "\n",
    "From initial analysis, the program operation team found out that the fitness classes are always fully booked but are having a low attendance rate per class. To improve this situation, they would like to increase the class capacity for customers to sign up if a low attendance rate is predicted.  \n",
    "\n",
    "\n",
    "## Customer Question\n",
    "The operation manager has asked you to answer the following:\n",
    "- Can you predict the attendance rate for each fitness class? \n",
    "\n"
   ]
  },
  {
   "cell_type": "markdown",
   "metadata": {
    "tags": []
   },
   "source": [
    "## Dataset\n",
    "The dataset contains the attendance information for the class scheduled this year so far. The data you will use for this analysis can be accessed here: `\"data/fitness_class.csv\"`\n",
    "\n",
    "| Column Name                     | Criteria                                                                                                                                                                        |\n",
    "|---------------------------------|---------------------------------------------------------------------------------------------------------------------------------------------------------------------------------|\n",
    "| Day of Week                     | Character, the day of the week the class was scheduled, one of values from “Mon” to “Sun”.                                                                                      |\n",
    "| Time                            | Character, the time of the day the class was scheduled, either \"AM\" or \"PM\".                                                                                                        |\n",
    "| Class Category                  | Character, the category of the fitness class, one of “Yoga”, “Aqua”, “Strength”, “HIIT”, or “Cycling”.                                                                          |\n",
    "| Days Before                     | Numeric, number of days the class stayed fully booked, maximum five days.                                                                                                       |\n",
    "| Class Capacity                  | Numeric, maximum number of members can sign up for that class, either 15 or 25.  The class capacity being 26 needs to be updated to 25.                                         |\n",
    "| Attendance                      | Numeric, number of members actually attended the class.                                                                                                                         |\n",
    "| Average Age                     | Numeric, average age of the members signing up for that class.  Remove rows that average age is smaller than 14 because group fitness class are for members aged 14 and order.  |\n",
    "| Number of New Students          | Numeric, number of new students signing up for this class.                                                                                                                      |\n",
    "| Number of Members Over 6 months | Numeric, number of members signing up for the class have been joining the club more than 6 months.                                                                              |                                                                                     |"
   ]
  },
  {
   "cell_type": "markdown",
   "metadata": {
    "tags": []
   },
   "source": [
    "# Data Scientist Associate Case Study Submission\n",
    "\n",
    "Use this template to complete your analysis and write up your summary for submission.\n"
   ]
  },
  {
   "cell_type": "markdown",
   "metadata": {
    "tags": []
   },
   "source": [
    "## Data Validation\n",
    "Describe the validation tasks you completed and what you found. Have you made any changes to the data to enable further analysis? Remember to describe what you did for every column in the data. \n",
    "\n",
    "*Write your description here*"
   ]
  },
  {
   "cell_type": "markdown",
   "metadata": {},
   "source": [
    "I ran the describe method on the Dataframe and saw that the minimum in the age column is less than the required, which is 14<br>\n",
    "The rows with unwanted ages were dropped<br>\n",
    "There was also an usual value, 26, in the class capacity column where the correct options should have been 15 and 25<br>\n",
    "The value was replaced with 25 as instructed.<br>\n",
    "I also ran the info method on the Dataframe and it revealed all columns have the correct data type"
   ]
  },
  {
   "cell_type": "code",
   "execution_count": 1,
   "metadata": {
    "id": "bA5ajAmk7XH6"
   },
   "outputs": [],
   "source": [
    "# Data Validation\n",
    "# Check all variables in the data against the criteria in the dataset above\n",
    "\n",
    "# Start coding here... "
   ]
  },
  {
   "cell_type": "code",
   "execution_count": 2,
   "metadata": {
    "tags": []
   },
   "outputs": [],
   "source": [
    "# Import the libraries\n",
    "import pandas as pd\n",
    "import numpy as np\n",
    "import matplotlib.pyplot as plt\n",
    "import seaborn as sns\n",
    "\n",
    "%matplotlib inline\n"
   ]
  },
  {
   "cell_type": "code",
   "execution_count": 3,
   "metadata": {},
   "outputs": [
    {
     "data": {
      "text/html": [
       "<div>\n",
       "<style scoped>\n",
       "    .dataframe tbody tr th:only-of-type {\n",
       "        vertical-align: middle;\n",
       "    }\n",
       "\n",
       "    .dataframe tbody tr th {\n",
       "        vertical-align: top;\n",
       "    }\n",
       "\n",
       "    .dataframe thead th {\n",
       "        text-align: right;\n",
       "    }\n",
       "</style>\n",
       "<table border=\"1\" class=\"dataframe\">\n",
       "  <thead>\n",
       "    <tr style=\"text-align: right;\">\n",
       "      <th></th>\n",
       "      <th>day_of_week</th>\n",
       "      <th>time</th>\n",
       "      <th>class_category</th>\n",
       "      <th>class_capacity</th>\n",
       "      <th>days_before</th>\n",
       "      <th>attendance</th>\n",
       "      <th>age</th>\n",
       "      <th>new_students</th>\n",
       "      <th>over_6_month</th>\n",
       "    </tr>\n",
       "  </thead>\n",
       "  <tbody>\n",
       "    <tr>\n",
       "      <th>0</th>\n",
       "      <td>Wed</td>\n",
       "      <td>AM</td>\n",
       "      <td>Yoga</td>\n",
       "      <td>15</td>\n",
       "      <td>1</td>\n",
       "      <td>8</td>\n",
       "      <td>31.1</td>\n",
       "      <td>6</td>\n",
       "      <td>4</td>\n",
       "    </tr>\n",
       "    <tr>\n",
       "      <th>1</th>\n",
       "      <td>Sun</td>\n",
       "      <td>PM</td>\n",
       "      <td>Aqua</td>\n",
       "      <td>15</td>\n",
       "      <td>3</td>\n",
       "      <td>8</td>\n",
       "      <td>27.0</td>\n",
       "      <td>7</td>\n",
       "      <td>8</td>\n",
       "    </tr>\n",
       "    <tr>\n",
       "      <th>2</th>\n",
       "      <td>Mon</td>\n",
       "      <td>AM</td>\n",
       "      <td>Aqua</td>\n",
       "      <td>15</td>\n",
       "      <td>5</td>\n",
       "      <td>10</td>\n",
       "      <td>22.4</td>\n",
       "      <td>8</td>\n",
       "      <td>7</td>\n",
       "    </tr>\n",
       "    <tr>\n",
       "      <th>3</th>\n",
       "      <td>Sun</td>\n",
       "      <td>PM</td>\n",
       "      <td>Strength</td>\n",
       "      <td>25</td>\n",
       "      <td>3</td>\n",
       "      <td>18</td>\n",
       "      <td>23.5</td>\n",
       "      <td>7</td>\n",
       "      <td>9</td>\n",
       "    </tr>\n",
       "    <tr>\n",
       "      <th>4</th>\n",
       "      <td>Mon</td>\n",
       "      <td>AM</td>\n",
       "      <td>Yoga</td>\n",
       "      <td>15</td>\n",
       "      <td>5</td>\n",
       "      <td>10</td>\n",
       "      <td>29.8</td>\n",
       "      <td>5</td>\n",
       "      <td>7</td>\n",
       "    </tr>\n",
       "  </tbody>\n",
       "</table>\n",
       "</div>"
      ],
      "text/plain": [
       "  day_of_week time class_category  class_capacity  days_before  attendance  \\\n",
       "0         Wed   AM           Yoga              15            1           8   \n",
       "1         Sun   PM           Aqua              15            3           8   \n",
       "2         Mon   AM           Aqua              15            5          10   \n",
       "3         Sun   PM       Strength              25            3          18   \n",
       "4         Mon   AM           Yoga              15            5          10   \n",
       "\n",
       "    age  new_students  over_6_month  \n",
       "0  31.1             6             4  \n",
       "1  27.0             7             8  \n",
       "2  22.4             8             7  \n",
       "3  23.5             7             9  \n",
       "4  29.8             5             7  "
      ]
     },
     "execution_count": 3,
     "metadata": {},
     "output_type": "execute_result"
    }
   ],
   "source": [
    "# Load the data\n",
    "fitness_class = pd.read_csv('fitness_class.csv', index_col = 0)\n",
    "\n",
    "# Displaying top few rows\n",
    "fitness_class.head()"
   ]
  },
  {
   "cell_type": "code",
   "execution_count": 4,
   "metadata": {},
   "outputs": [
    {
     "data": {
      "text/html": [
       "<div>\n",
       "<style scoped>\n",
       "    .dataframe tbody tr th:only-of-type {\n",
       "        vertical-align: middle;\n",
       "    }\n",
       "\n",
       "    .dataframe tbody tr th {\n",
       "        vertical-align: top;\n",
       "    }\n",
       "\n",
       "    .dataframe thead th {\n",
       "        text-align: right;\n",
       "    }\n",
       "</style>\n",
       "<table border=\"1\" class=\"dataframe\">\n",
       "  <thead>\n",
       "    <tr style=\"text-align: right;\">\n",
       "      <th></th>\n",
       "      <th>class_capacity</th>\n",
       "      <th>days_before</th>\n",
       "      <th>attendance</th>\n",
       "      <th>age</th>\n",
       "      <th>new_students</th>\n",
       "      <th>over_6_month</th>\n",
       "    </tr>\n",
       "  </thead>\n",
       "  <tbody>\n",
       "    <tr>\n",
       "      <th>count</th>\n",
       "      <td>765.000000</td>\n",
       "      <td>765.000000</td>\n",
       "      <td>765.000000</td>\n",
       "      <td>765.000000</td>\n",
       "      <td>765.000000</td>\n",
       "      <td>765.000000</td>\n",
       "    </tr>\n",
       "    <tr>\n",
       "      <th>mean</th>\n",
       "      <td>17.542484</td>\n",
       "      <td>2.547712</td>\n",
       "      <td>9.563399</td>\n",
       "      <td>29.092680</td>\n",
       "      <td>5.917647</td>\n",
       "      <td>7.577778</td>\n",
       "    </tr>\n",
       "    <tr>\n",
       "      <th>std</th>\n",
       "      <td>4.365481</td>\n",
       "      <td>1.355379</td>\n",
       "      <td>3.896598</td>\n",
       "      <td>5.912063</td>\n",
       "      <td>1.789224</td>\n",
       "      <td>1.974518</td>\n",
       "    </tr>\n",
       "    <tr>\n",
       "      <th>min</th>\n",
       "      <td>15.000000</td>\n",
       "      <td>1.000000</td>\n",
       "      <td>4.000000</td>\n",
       "      <td>8.300000</td>\n",
       "      <td>1.000000</td>\n",
       "      <td>2.000000</td>\n",
       "    </tr>\n",
       "    <tr>\n",
       "      <th>25%</th>\n",
       "      <td>15.000000</td>\n",
       "      <td>1.000000</td>\n",
       "      <td>7.000000</td>\n",
       "      <td>25.300000</td>\n",
       "      <td>5.000000</td>\n",
       "      <td>6.000000</td>\n",
       "    </tr>\n",
       "    <tr>\n",
       "      <th>50%</th>\n",
       "      <td>15.000000</td>\n",
       "      <td>2.000000</td>\n",
       "      <td>9.000000</td>\n",
       "      <td>29.000000</td>\n",
       "      <td>6.000000</td>\n",
       "      <td>8.000000</td>\n",
       "    </tr>\n",
       "    <tr>\n",
       "      <th>75%</th>\n",
       "      <td>25.000000</td>\n",
       "      <td>4.000000</td>\n",
       "      <td>11.000000</td>\n",
       "      <td>33.200000</td>\n",
       "      <td>7.000000</td>\n",
       "      <td>9.000000</td>\n",
       "    </tr>\n",
       "    <tr>\n",
       "      <th>max</th>\n",
       "      <td>26.000000</td>\n",
       "      <td>5.000000</td>\n",
       "      <td>21.000000</td>\n",
       "      <td>48.800000</td>\n",
       "      <td>11.000000</td>\n",
       "      <td>13.000000</td>\n",
       "    </tr>\n",
       "  </tbody>\n",
       "</table>\n",
       "</div>"
      ],
      "text/plain": [
       "       class_capacity  days_before  attendance         age  new_students  \\\n",
       "count      765.000000   765.000000  765.000000  765.000000    765.000000   \n",
       "mean        17.542484     2.547712    9.563399   29.092680      5.917647   \n",
       "std          4.365481     1.355379    3.896598    5.912063      1.789224   \n",
       "min         15.000000     1.000000    4.000000    8.300000      1.000000   \n",
       "25%         15.000000     1.000000    7.000000   25.300000      5.000000   \n",
       "50%         15.000000     2.000000    9.000000   29.000000      6.000000   \n",
       "75%         25.000000     4.000000   11.000000   33.200000      7.000000   \n",
       "max         26.000000     5.000000   21.000000   48.800000     11.000000   \n",
       "\n",
       "       over_6_month  \n",
       "count    765.000000  \n",
       "mean       7.577778  \n",
       "std        1.974518  \n",
       "min        2.000000  \n",
       "25%        6.000000  \n",
       "50%        8.000000  \n",
       "75%        9.000000  \n",
       "max       13.000000  "
      ]
     },
     "execution_count": 4,
     "metadata": {},
     "output_type": "execute_result"
    }
   ],
   "source": [
    "# Getting more insights on the data\n",
    "fitness_class.describe()"
   ]
  },
  {
   "cell_type": "markdown",
   "metadata": {},
   "source": [
    "This information shows us that some columns have unusual values, so our first task to tackle these problems."
   ]
  },
  {
   "cell_type": "code",
   "execution_count": 5,
   "metadata": {},
   "outputs": [
    {
     "name": "stdout",
     "output_type": "stream",
     "text": [
      "<class 'pandas.core.frame.DataFrame'>\n",
      "Int64Index: 765 entries, 0 to 764\n",
      "Data columns (total 9 columns):\n",
      " #   Column          Non-Null Count  Dtype  \n",
      "---  ------          --------------  -----  \n",
      " 0   day_of_week     765 non-null    object \n",
      " 1   time            765 non-null    object \n",
      " 2   class_category  765 non-null    object \n",
      " 3   class_capacity  765 non-null    int64  \n",
      " 4   days_before     765 non-null    int64  \n",
      " 5   attendance      765 non-null    int64  \n",
      " 6   age             765 non-null    float64\n",
      " 7   new_students    765 non-null    int64  \n",
      " 8   over_6_month    765 non-null    int64  \n",
      "dtypes: float64(1), int64(5), object(3)\n",
      "memory usage: 59.8+ KB\n"
     ]
    }
   ],
   "source": [
    "fitness_class.info()"
   ]
  },
  {
   "cell_type": "markdown",
   "metadata": {},
   "source": [
    "Okay, this info shows us the dimension of our dataset, shows the columns have the correct data types and reveals we have no missing values"
   ]
  },
  {
   "cell_type": "code",
   "execution_count": 6,
   "metadata": {},
   "outputs": [
    {
     "data": {
      "text/plain": [
       "15    571\n",
       "25    189\n",
       "26      5\n",
       "Name: class_capacity, dtype: int64"
      ]
     },
     "execution_count": 6,
     "metadata": {},
     "output_type": "execute_result"
    }
   ],
   "source": [
    "# We deal with the class capacity first\n",
    "fitness_class['class_capacity'].value_counts()"
   ]
  },
  {
   "cell_type": "markdown",
   "metadata": {},
   "source": [
    "This is to verify that we have only the correct values for the maximum number of members who signed up"
   ]
  },
  {
   "cell_type": "code",
   "execution_count": 7,
   "metadata": {},
   "outputs": [
    {
     "name": "stderr",
     "output_type": "stream",
     "text": [
      "C:\\Users\\ACER\\anaconda3\\lib\\site-packages\\ipykernel_launcher.py:2: SettingWithCopyWarning: \n",
      "A value is trying to be set on a copy of a slice from a DataFrame\n",
      "\n",
      "See the caveats in the documentation: https://pandas.pydata.org/pandas-docs/stable/user_guide/indexing.html#returning-a-view-versus-a-copy\n",
      "  \n"
     ]
    },
    {
     "data": {
      "text/plain": [
       "15    571\n",
       "25    194\n",
       "Name: class_capacity, dtype: int64"
      ]
     },
     "execution_count": 7,
     "metadata": {},
     "output_type": "execute_result"
    }
   ],
   "source": [
    "# Changing all values that are 26 to 25\n",
    "fitness_class['class_capacity'][fitness_class['class_capacity'] == 26] = 25\n",
    "fitness_class['class_capacity'].value_counts()"
   ]
  },
  {
   "cell_type": "markdown",
   "metadata": {
    "tags": []
   },
   "source": [
    "<br>Now we deal with Age"
   ]
  },
  {
   "cell_type": "code",
   "execution_count": 8,
   "metadata": {},
   "outputs": [
    {
     "data": {
      "text/plain": [
       "14.0"
      ]
     },
     "execution_count": 8,
     "metadata": {},
     "output_type": "execute_result"
    }
   ],
   "source": [
    "# To drop rows with ages less than 14\n",
    "rows_to_drop = fitness_class[fitness_class['age'] < 14].index \n",
    "fitness_class.drop(rows_to_drop, inplace = True)\n",
    "\n",
    "# Verifying that the smallest age is now 14\n",
    "fitness_class['age'].min()"
   ]
  },
  {
   "cell_type": "code",
   "execution_count": 9,
   "metadata": {},
   "outputs": [
    {
     "data": {
      "text/html": [
       "<div>\n",
       "<style scoped>\n",
       "    .dataframe tbody tr th:only-of-type {\n",
       "        vertical-align: middle;\n",
       "    }\n",
       "\n",
       "    .dataframe tbody tr th {\n",
       "        vertical-align: top;\n",
       "    }\n",
       "\n",
       "    .dataframe thead th {\n",
       "        text-align: right;\n",
       "    }\n",
       "</style>\n",
       "<table border=\"1\" class=\"dataframe\">\n",
       "  <thead>\n",
       "    <tr style=\"text-align: right;\">\n",
       "      <th></th>\n",
       "      <th>class_capacity</th>\n",
       "      <th>days_before</th>\n",
       "      <th>attendance</th>\n",
       "      <th>age</th>\n",
       "      <th>new_students</th>\n",
       "      <th>over_6_month</th>\n",
       "    </tr>\n",
       "  </thead>\n",
       "  <tbody>\n",
       "    <tr>\n",
       "      <th>count</th>\n",
       "      <td>762.000000</td>\n",
       "      <td>762.000000</td>\n",
       "      <td>762.000000</td>\n",
       "      <td>762.000000</td>\n",
       "      <td>762.000000</td>\n",
       "      <td>762.000000</td>\n",
       "    </tr>\n",
       "    <tr>\n",
       "      <th>mean</th>\n",
       "      <td>17.506562</td>\n",
       "      <td>2.547244</td>\n",
       "      <td>9.519685</td>\n",
       "      <td>29.163648</td>\n",
       "      <td>5.912073</td>\n",
       "      <td>7.565617</td>\n",
       "    </tr>\n",
       "    <tr>\n",
       "      <th>std</th>\n",
       "      <td>4.336755</td>\n",
       "      <td>1.355768</td>\n",
       "      <td>3.841164</td>\n",
       "      <td>5.812547</td>\n",
       "      <td>1.788821</td>\n",
       "      <td>1.968617</td>\n",
       "    </tr>\n",
       "    <tr>\n",
       "      <th>min</th>\n",
       "      <td>15.000000</td>\n",
       "      <td>1.000000</td>\n",
       "      <td>4.000000</td>\n",
       "      <td>14.000000</td>\n",
       "      <td>1.000000</td>\n",
       "      <td>2.000000</td>\n",
       "    </tr>\n",
       "    <tr>\n",
       "      <th>25%</th>\n",
       "      <td>15.000000</td>\n",
       "      <td>1.000000</td>\n",
       "      <td>7.000000</td>\n",
       "      <td>25.300000</td>\n",
       "      <td>5.000000</td>\n",
       "      <td>6.000000</td>\n",
       "    </tr>\n",
       "    <tr>\n",
       "      <th>50%</th>\n",
       "      <td>15.000000</td>\n",
       "      <td>2.000000</td>\n",
       "      <td>9.000000</td>\n",
       "      <td>29.000000</td>\n",
       "      <td>6.000000</td>\n",
       "      <td>8.000000</td>\n",
       "    </tr>\n",
       "    <tr>\n",
       "      <th>75%</th>\n",
       "      <td>22.500000</td>\n",
       "      <td>4.000000</td>\n",
       "      <td>11.000000</td>\n",
       "      <td>33.200000</td>\n",
       "      <td>7.000000</td>\n",
       "      <td>9.000000</td>\n",
       "    </tr>\n",
       "    <tr>\n",
       "      <th>max</th>\n",
       "      <td>25.000000</td>\n",
       "      <td>5.000000</td>\n",
       "      <td>21.000000</td>\n",
       "      <td>48.800000</td>\n",
       "      <td>11.000000</td>\n",
       "      <td>13.000000</td>\n",
       "    </tr>\n",
       "  </tbody>\n",
       "</table>\n",
       "</div>"
      ],
      "text/plain": [
       "       class_capacity  days_before  attendance         age  new_students  \\\n",
       "count      762.000000   762.000000  762.000000  762.000000    762.000000   \n",
       "mean        17.506562     2.547244    9.519685   29.163648      5.912073   \n",
       "std          4.336755     1.355768    3.841164    5.812547      1.788821   \n",
       "min         15.000000     1.000000    4.000000   14.000000      1.000000   \n",
       "25%         15.000000     1.000000    7.000000   25.300000      5.000000   \n",
       "50%         15.000000     2.000000    9.000000   29.000000      6.000000   \n",
       "75%         22.500000     4.000000   11.000000   33.200000      7.000000   \n",
       "max         25.000000     5.000000   21.000000   48.800000     11.000000   \n",
       "\n",
       "       over_6_month  \n",
       "count    762.000000  \n",
       "mean       7.565617  \n",
       "std        1.968617  \n",
       "min        2.000000  \n",
       "25%        6.000000  \n",
       "50%        8.000000  \n",
       "75%        9.000000  \n",
       "max       13.000000  "
      ]
     },
     "execution_count": 9,
     "metadata": {},
     "output_type": "execute_result"
    }
   ],
   "source": [
    "# Running describe method again\n",
    "fitness_class.describe()"
   ]
  },
  {
   "cell_type": "markdown",
   "metadata": {},
   "source": [
    "This verifies that the minimum age we have now is 14 and our maximum capacity, 25."
   ]
  },
  {
   "cell_type": "code",
   "execution_count": 10,
   "metadata": {},
   "outputs": [
    {
     "data": {
      "text/plain": [
       "Thu    126\n",
       "Tue    120\n",
       "Wed    116\n",
       "Sun    115\n",
       "Sat     99\n",
       "Fri     94\n",
       "Mon     92\n",
       "Name: day_of_week, dtype: int64"
      ]
     },
     "execution_count": 10,
     "metadata": {},
     "output_type": "execute_result"
    }
   ],
   "source": [
    "fitness_class['day_of_week'].value_counts()"
   ]
  },
  {
   "cell_type": "code",
   "execution_count": 11,
   "metadata": {},
   "outputs": [
    {
     "data": {
      "text/plain": [
       "Yoga        173\n",
       "Strength    162\n",
       "Aqua        160\n",
       "HIIT        137\n",
       "Cycling     130\n",
       "Name: class_category, dtype: int64"
      ]
     },
     "execution_count": 11,
     "metadata": {},
     "output_type": "execute_result"
    }
   ],
   "source": [
    "fitness_class['class_category'].value_counts()"
   ]
  },
  {
   "cell_type": "markdown",
   "metadata": {
    "tags": []
   },
   "source": [
    "## Exploratory Analysis\n",
    "Describe what you found in the exploratory analysis. In your description you should:\n",
    "- Reference at least two different data visualizations you created above to demonstrate the characteristics of variables\n",
    "- Reference at least one data visualization you created above to demonstrate the relationship between two or more variables\n",
    "- Describe what your exploratory analysis has told you about the data\n",
    "- Describe any changes you have made to the data to enable modeling\n",
    "\n",
    "*Write your description here*"
   ]
  },
  {
   "cell_type": "markdown",
   "metadata": {},
   "source": [
    "I used visualizations to confirm some information I had seen previously about the dataset. It also revealed some information that were previously unknown\n",
    "\n",
    "1. I used seaborn's count plot to see the number frequency of the different fitness classes.\n",
    "2. Box plot revealed that attendance ratio lesser for Sunday and Monday where people fail to make it to classes after registering, compared to other days.\n",
    "3. Count plot also revealed that people generally register for afternoon sessions than morning sessions.\n",
    "4. Seaborn's heatmap was used to show the correlation among the different features in the dataset.\n",
    "5. Scatter plot confirmed the claim that attendance seems to be low when older people sign up.\n",
    "<hr />\n",
    "A new column, attendance_ratio, was created to get the actual rate of attendance since, we have two distinct values for attendance, and the rate varies"
   ]
  },
  {
   "cell_type": "code",
   "execution_count": 12,
   "metadata": {},
   "outputs": [
    {
     "data": {
      "text/html": [
       "<div>\n",
       "<style scoped>\n",
       "    .dataframe tbody tr th:only-of-type {\n",
       "        vertical-align: middle;\n",
       "    }\n",
       "\n",
       "    .dataframe tbody tr th {\n",
       "        vertical-align: top;\n",
       "    }\n",
       "\n",
       "    .dataframe thead th {\n",
       "        text-align: right;\n",
       "    }\n",
       "</style>\n",
       "<table border=\"1\" class=\"dataframe\">\n",
       "  <thead>\n",
       "    <tr style=\"text-align: right;\">\n",
       "      <th></th>\n",
       "      <th>day_of_week</th>\n",
       "      <th>time</th>\n",
       "      <th>class_category</th>\n",
       "      <th>class_capacity</th>\n",
       "      <th>days_before</th>\n",
       "      <th>attendance</th>\n",
       "      <th>age</th>\n",
       "      <th>new_students</th>\n",
       "      <th>over_6_month</th>\n",
       "    </tr>\n",
       "  </thead>\n",
       "  <tbody>\n",
       "    <tr>\n",
       "      <th>0</th>\n",
       "      <td>Wed</td>\n",
       "      <td>AM</td>\n",
       "      <td>Yoga</td>\n",
       "      <td>15</td>\n",
       "      <td>1</td>\n",
       "      <td>8</td>\n",
       "      <td>31.1</td>\n",
       "      <td>6</td>\n",
       "      <td>4</td>\n",
       "    </tr>\n",
       "    <tr>\n",
       "      <th>1</th>\n",
       "      <td>Sun</td>\n",
       "      <td>PM</td>\n",
       "      <td>Aqua</td>\n",
       "      <td>15</td>\n",
       "      <td>3</td>\n",
       "      <td>8</td>\n",
       "      <td>27.0</td>\n",
       "      <td>7</td>\n",
       "      <td>8</td>\n",
       "    </tr>\n",
       "    <tr>\n",
       "      <th>2</th>\n",
       "      <td>Mon</td>\n",
       "      <td>AM</td>\n",
       "      <td>Aqua</td>\n",
       "      <td>15</td>\n",
       "      <td>5</td>\n",
       "      <td>10</td>\n",
       "      <td>22.4</td>\n",
       "      <td>8</td>\n",
       "      <td>7</td>\n",
       "    </tr>\n",
       "    <tr>\n",
       "      <th>3</th>\n",
       "      <td>Sun</td>\n",
       "      <td>PM</td>\n",
       "      <td>Strength</td>\n",
       "      <td>25</td>\n",
       "      <td>3</td>\n",
       "      <td>18</td>\n",
       "      <td>23.5</td>\n",
       "      <td>7</td>\n",
       "      <td>9</td>\n",
       "    </tr>\n",
       "    <tr>\n",
       "      <th>4</th>\n",
       "      <td>Mon</td>\n",
       "      <td>AM</td>\n",
       "      <td>Yoga</td>\n",
       "      <td>15</td>\n",
       "      <td>5</td>\n",
       "      <td>10</td>\n",
       "      <td>29.8</td>\n",
       "      <td>5</td>\n",
       "      <td>7</td>\n",
       "    </tr>\n",
       "  </tbody>\n",
       "</table>\n",
       "</div>"
      ],
      "text/plain": [
       "  day_of_week time class_category  class_capacity  days_before  attendance  \\\n",
       "0         Wed   AM           Yoga              15            1           8   \n",
       "1         Sun   PM           Aqua              15            3           8   \n",
       "2         Mon   AM           Aqua              15            5          10   \n",
       "3         Sun   PM       Strength              25            3          18   \n",
       "4         Mon   AM           Yoga              15            5          10   \n",
       "\n",
       "    age  new_students  over_6_month  \n",
       "0  31.1             6             4  \n",
       "1  27.0             7             8  \n",
       "2  22.4             8             7  \n",
       "3  23.5             7             9  \n",
       "4  29.8             5             7  "
      ]
     },
     "execution_count": 12,
     "metadata": {},
     "output_type": "execute_result"
    }
   ],
   "source": [
    "# Taking a look at the top few rows of the data again\n",
    "fitness_class.head()"
   ]
  },
  {
   "cell_type": "markdown",
   "metadata": {},
   "source": [
    "<br>Since class capacity isn't constant all through, we'll create another column to get the ratio of attendance to capacity as a percentage"
   ]
  },
  {
   "cell_type": "code",
   "execution_count": 13,
   "metadata": {},
   "outputs": [
    {
     "data": {
      "text/html": [
       "<div>\n",
       "<style scoped>\n",
       "    .dataframe tbody tr th:only-of-type {\n",
       "        vertical-align: middle;\n",
       "    }\n",
       "\n",
       "    .dataframe tbody tr th {\n",
       "        vertical-align: top;\n",
       "    }\n",
       "\n",
       "    .dataframe thead th {\n",
       "        text-align: right;\n",
       "    }\n",
       "</style>\n",
       "<table border=\"1\" class=\"dataframe\">\n",
       "  <thead>\n",
       "    <tr style=\"text-align: right;\">\n",
       "      <th></th>\n",
       "      <th>day_of_week</th>\n",
       "      <th>time</th>\n",
       "      <th>class_category</th>\n",
       "      <th>class_capacity</th>\n",
       "      <th>days_before</th>\n",
       "      <th>attendance</th>\n",
       "      <th>age</th>\n",
       "      <th>new_students</th>\n",
       "      <th>over_6_month</th>\n",
       "      <th>attendance_ratio</th>\n",
       "    </tr>\n",
       "  </thead>\n",
       "  <tbody>\n",
       "    <tr>\n",
       "      <th>0</th>\n",
       "      <td>Wed</td>\n",
       "      <td>AM</td>\n",
       "      <td>Yoga</td>\n",
       "      <td>15</td>\n",
       "      <td>1</td>\n",
       "      <td>8</td>\n",
       "      <td>31.1</td>\n",
       "      <td>6</td>\n",
       "      <td>4</td>\n",
       "      <td>53.333333</td>\n",
       "    </tr>\n",
       "    <tr>\n",
       "      <th>1</th>\n",
       "      <td>Sun</td>\n",
       "      <td>PM</td>\n",
       "      <td>Aqua</td>\n",
       "      <td>15</td>\n",
       "      <td>3</td>\n",
       "      <td>8</td>\n",
       "      <td>27.0</td>\n",
       "      <td>7</td>\n",
       "      <td>8</td>\n",
       "      <td>53.333333</td>\n",
       "    </tr>\n",
       "    <tr>\n",
       "      <th>2</th>\n",
       "      <td>Mon</td>\n",
       "      <td>AM</td>\n",
       "      <td>Aqua</td>\n",
       "      <td>15</td>\n",
       "      <td>5</td>\n",
       "      <td>10</td>\n",
       "      <td>22.4</td>\n",
       "      <td>8</td>\n",
       "      <td>7</td>\n",
       "      <td>66.666667</td>\n",
       "    </tr>\n",
       "    <tr>\n",
       "      <th>3</th>\n",
       "      <td>Sun</td>\n",
       "      <td>PM</td>\n",
       "      <td>Strength</td>\n",
       "      <td>25</td>\n",
       "      <td>3</td>\n",
       "      <td>18</td>\n",
       "      <td>23.5</td>\n",
       "      <td>7</td>\n",
       "      <td>9</td>\n",
       "      <td>72.000000</td>\n",
       "    </tr>\n",
       "    <tr>\n",
       "      <th>4</th>\n",
       "      <td>Mon</td>\n",
       "      <td>AM</td>\n",
       "      <td>Yoga</td>\n",
       "      <td>15</td>\n",
       "      <td>5</td>\n",
       "      <td>10</td>\n",
       "      <td>29.8</td>\n",
       "      <td>5</td>\n",
       "      <td>7</td>\n",
       "      <td>66.666667</td>\n",
       "    </tr>\n",
       "  </tbody>\n",
       "</table>\n",
       "</div>"
      ],
      "text/plain": [
       "  day_of_week time class_category  class_capacity  days_before  attendance  \\\n",
       "0         Wed   AM           Yoga              15            1           8   \n",
       "1         Sun   PM           Aqua              15            3           8   \n",
       "2         Mon   AM           Aqua              15            5          10   \n",
       "3         Sun   PM       Strength              25            3          18   \n",
       "4         Mon   AM           Yoga              15            5          10   \n",
       "\n",
       "    age  new_students  over_6_month  attendance_ratio  \n",
       "0  31.1             6             4         53.333333  \n",
       "1  27.0             7             8         53.333333  \n",
       "2  22.4             8             7         66.666667  \n",
       "3  23.5             7             9         72.000000  \n",
       "4  29.8             5             7         66.666667  "
      ]
     },
     "execution_count": 13,
     "metadata": {},
     "output_type": "execute_result"
    }
   ],
   "source": [
    "fitness_class['attendance_ratio'] = fitness_class['attendance'] / fitness_class['class_capacity'] * 100\n",
    "fitness_class.head()"
   ]
  },
  {
   "cell_type": "code",
   "execution_count": 14,
   "metadata": {},
   "outputs": [
    {
     "data": {
      "text/plain": [
       "count    762.000000\n",
       "mean      54.215223\n",
       "std       16.276674\n",
       "min       26.666667\n",
       "25%       40.000000\n",
       "50%       53.333333\n",
       "75%       66.666667\n",
       "max       84.000000\n",
       "Name: attendance_ratio, dtype: float64"
      ]
     },
     "execution_count": 14,
     "metadata": {},
     "output_type": "execute_result"
    }
   ],
   "source": [
    "fitness_class['attendance_ratio'].describe()"
   ]
  },
  {
   "cell_type": "code",
   "execution_count": 15,
   "metadata": {},
   "outputs": [
    {
     "data": {
      "text/html": [
       "<div>\n",
       "<style scoped>\n",
       "    .dataframe tbody tr th:only-of-type {\n",
       "        vertical-align: middle;\n",
       "    }\n",
       "\n",
       "    .dataframe tbody tr th {\n",
       "        vertical-align: top;\n",
       "    }\n",
       "\n",
       "    .dataframe thead th {\n",
       "        text-align: right;\n",
       "    }\n",
       "</style>\n",
       "<table border=\"1\" class=\"dataframe\">\n",
       "  <thead>\n",
       "    <tr style=\"text-align: right;\">\n",
       "      <th></th>\n",
       "      <th>class_capacity</th>\n",
       "      <th>days_before</th>\n",
       "      <th>attendance</th>\n",
       "      <th>age</th>\n",
       "      <th>new_students</th>\n",
       "      <th>over_6_month</th>\n",
       "      <th>attendance_ratio</th>\n",
       "    </tr>\n",
       "  </thead>\n",
       "  <tbody>\n",
       "    <tr>\n",
       "      <th>class_capacity</th>\n",
       "      <td>1.000000</td>\n",
       "      <td>0.349715</td>\n",
       "      <td>0.650586</td>\n",
       "      <td>-0.437761</td>\n",
       "      <td>0.265591</td>\n",
       "      <td>0.438616</td>\n",
       "      <td>0.040377</td>\n",
       "    </tr>\n",
       "    <tr>\n",
       "      <th>days_before</th>\n",
       "      <td>0.349715</td>\n",
       "      <td>1.000000</td>\n",
       "      <td>0.272084</td>\n",
       "      <td>-0.213646</td>\n",
       "      <td>0.142320</td>\n",
       "      <td>0.183220</td>\n",
       "      <td>0.074489</td>\n",
       "    </tr>\n",
       "    <tr>\n",
       "      <th>attendance</th>\n",
       "      <td>0.650586</td>\n",
       "      <td>0.272084</td>\n",
       "      <td>1.000000</td>\n",
       "      <td>-0.734209</td>\n",
       "      <td>0.463347</td>\n",
       "      <td>0.694935</td>\n",
       "      <td>0.763144</td>\n",
       "    </tr>\n",
       "    <tr>\n",
       "      <th>age</th>\n",
       "      <td>-0.437761</td>\n",
       "      <td>-0.213646</td>\n",
       "      <td>-0.734209</td>\n",
       "      <td>1.000000</td>\n",
       "      <td>-0.375154</td>\n",
       "      <td>-0.568190</td>\n",
       "      <td>-0.631471</td>\n",
       "    </tr>\n",
       "    <tr>\n",
       "      <th>new_students</th>\n",
       "      <td>0.265591</td>\n",
       "      <td>0.142320</td>\n",
       "      <td>0.463347</td>\n",
       "      <td>-0.375154</td>\n",
       "      <td>1.000000</td>\n",
       "      <td>0.360801</td>\n",
       "      <td>0.408432</td>\n",
       "    </tr>\n",
       "    <tr>\n",
       "      <th>over_6_month</th>\n",
       "      <td>0.438616</td>\n",
       "      <td>0.183220</td>\n",
       "      <td>0.694935</td>\n",
       "      <td>-0.568190</td>\n",
       "      <td>0.360801</td>\n",
       "      <td>1.000000</td>\n",
       "      <td>0.571018</td>\n",
       "    </tr>\n",
       "    <tr>\n",
       "      <th>attendance_ratio</th>\n",
       "      <td>0.040377</td>\n",
       "      <td>0.074489</td>\n",
       "      <td>0.763144</td>\n",
       "      <td>-0.631471</td>\n",
       "      <td>0.408432</td>\n",
       "      <td>0.571018</td>\n",
       "      <td>1.000000</td>\n",
       "    </tr>\n",
       "  </tbody>\n",
       "</table>\n",
       "</div>"
      ],
      "text/plain": [
       "                  class_capacity  days_before  attendance       age  \\\n",
       "class_capacity          1.000000     0.349715    0.650586 -0.437761   \n",
       "days_before             0.349715     1.000000    0.272084 -0.213646   \n",
       "attendance              0.650586     0.272084    1.000000 -0.734209   \n",
       "age                    -0.437761    -0.213646   -0.734209  1.000000   \n",
       "new_students            0.265591     0.142320    0.463347 -0.375154   \n",
       "over_6_month            0.438616     0.183220    0.694935 -0.568190   \n",
       "attendance_ratio        0.040377     0.074489    0.763144 -0.631471   \n",
       "\n",
       "                  new_students  over_6_month  attendance_ratio  \n",
       "class_capacity        0.265591      0.438616          0.040377  \n",
       "days_before           0.142320      0.183220          0.074489  \n",
       "attendance            0.463347      0.694935          0.763144  \n",
       "age                  -0.375154     -0.568190         -0.631471  \n",
       "new_students          1.000000      0.360801          0.408432  \n",
       "over_6_month          0.360801      1.000000          0.571018  \n",
       "attendance_ratio      0.408432      0.571018          1.000000  "
      ]
     },
     "execution_count": 15,
     "metadata": {},
     "output_type": "execute_result"
    }
   ],
   "source": [
    "# Let's check if there's any correlation between our data\n",
    "fitness_class.corr()"
   ]
  },
  {
   "cell_type": "markdown",
   "metadata": {},
   "source": [
    "There seem to be a correlation between age and attendance columns, and then attendance and over_6_month columns.<br>\n",
    "Attendance seems to be low when older people sign up<br>\n",
    "Attendance tends to go up when a lot of people who have been at the club for more than 6 months register<br><br>"
   ]
  },
  {
   "cell_type": "code",
   "execution_count": 16,
   "metadata": {
    "tags": []
   },
   "outputs": [
    {
     "data": {
      "text/plain": [
       "Text(0.5, 1.0, 'Frequency of registered classes')"
      ]
     },
     "execution_count": 16,
     "metadata": {},
     "output_type": "execute_result"
    },
    {
     "data": {
      "image/png": "[encoded data removed]",
      "text/plain": [
       "<Figure size 432x288 with 1 Axes>"
      ]
     },
     "metadata": {
      "needs_background": "light"
     },
     "output_type": "display_data"
    }
   ],
   "source": [
    "# Let's do some plotting\n",
    "sns.countplot(x = 'class_category', data = fitness_class)\n",
    "plt.title('Frequency of registered classes')"
   ]
  },
  {
   "cell_type": "markdown",
   "metadata": {},
   "source": [
    "The plot shows us that Yoga has the highest number of sessions and Cycling has the lowest"
   ]
  },
  {
   "cell_type": "code",
   "execution_count": 17,
   "metadata": {},
   "outputs": [
    {
     "data": {
      "text/plain": [
       "Text(0.5, 1.0, 'Frequency of classes by variance of day of the week')"
      ]
     },
     "execution_count": 17,
     "metadata": {},
     "output_type": "execute_result"
    },
    {
     "data": {
      "image/png": "[encoded data removed]",
      "text/plain": [
       "<Figure size 432x288 with 1 Axes>"
      ]
     },
     "metadata": {
      "needs_background": "light"
     },
     "output_type": "display_data"
    }
   ],
   "source": [
    "sns.boxplot(x = 'day_of_week', y = 'attendance_ratio', data = fitness_class)\n",
    "plt.title('Frequency of classes by variance of day of the week')"
   ]
  },
  {
   "cell_type": "markdown",
   "metadata": {},
   "source": [
    "Attendance ratio is more or less the same throughout the week, except for Sunday and Monday where people fail to make it to classes after registering"
   ]
  },
  {
   "cell_type": "code",
   "execution_count": 18,
   "metadata": {},
   "outputs": [
    {
     "data": {
      "text/plain": [
       "Text(0.5, 1.0, 'Frequency of classes by variance of time')"
      ]
     },
     "execution_count": 18,
     "metadata": {},
     "output_type": "execute_result"
    },
    {
     "data": {
      "image/png": "[encoded data removed]",
      "text/plain": [
       "<Figure size 432x288 with 1 Axes>"
      ]
     },
     "metadata": {
      "needs_background": "light"
     },
     "output_type": "display_data"
    }
   ],
   "source": [
    "sns.countplot(x = 'day_of_week', hue = 'time', data = fitness_class)\n",
    "plt.title('Frequency of classes by variance of time')"
   ]
  },
  {
   "cell_type": "markdown",
   "metadata": {},
   "source": [
    "The plot shows more people generally register for afternoon sessions except on Sundays where we have more morning sessions than afternoon"
   ]
  },
  {
   "cell_type": "code",
   "execution_count": 19,
   "metadata": {},
   "outputs": [
    {
     "data": {
      "text/plain": [
       "Text(0.5, 1, 'Heatmap of the columns')"
      ]
     },
     "execution_count": 19,
     "metadata": {},
     "output_type": "execute_result"
    },
    {
     "data": {
      "image/png": "[encoded data removed]",
      "text/plain": [
       "<Figure size 432x288 with 2 Axes>"
      ]
     },
     "metadata": {
      "needs_background": "light"
     },
     "output_type": "display_data"
    }
   ],
   "source": [
    "sns.heatmap(fitness_class.corr(), cmap='RdBu')\n",
    "plt.title('Heatmap of the columns')"
   ]
  },
  {
   "cell_type": "markdown",
   "metadata": {},
   "source": [
    "The heatmap shows the amount of correlation among the features, blue being a positive correlation and red being a negative correlation<br>\n",
    "This confirms our findings earlier that\n",
    "1. Attendance seems to be low when older people sign up\n",
    "2. Attendance tends to go up when a lot of people who have been joining the club more than 6 months register"
   ]
  },
  {
   "cell_type": "code",
   "execution_count": 20,
   "metadata": {},
   "outputs": [
    {
     "data": {
      "text/plain": [
       "Text(0.5, 1.0, 'Scatterplot of attendance ratio as a function of age')"
      ]
     },
     "execution_count": 20,
     "metadata": {},
     "output_type": "execute_result"
    },
    {
     "data": {
      "image/png": "[encoded data removed]",
      "text/plain": [
       "<Figure size 432x288 with 1 Axes>"
      ]
     },
     "metadata": {
      "needs_background": "light"
     },
     "output_type": "display_data"
    }
   ],
   "source": [
    "sns.scatterplot(x = 'age', y = 'attendance_ratio', hue = 'time', data = fitness_class)\n",
    "plt.title('Scatterplot of attendance ratio as a function of age')"
   ]
  },
  {
   "cell_type": "markdown",
   "metadata": {},
   "source": [
    "This further confirms our claim that attendance seems to be low when older people sign up."
   ]
  },
  {
   "cell_type": "markdown",
   "metadata": {},
   "source": [
    "<br><br>"
   ]
  },
  {
   "cell_type": "code",
   "execution_count": 21,
   "metadata": {},
   "outputs": [],
   "source": [
    "# Exploratory Analysis\n",
    "# Explore the characteristics of the variables in the data\n",
    "\n",
    "# Start coding here... "
   ]
  },
  {
   "cell_type": "markdown",
   "metadata": {
    "tags": []
   },
   "source": [
    "## Model Fitting\n",
    "Describe your approach to the model fitting. In your description you should:\n",
    "- Describe what type of machine learning problem you are working on\n",
    "- Describe which method you selected for the baseline model and explain why you chose this model\n",
    "- Describe which method you selected for the comparison model and explain why you chose this model\n",
    "\n",
    "*Write your description here*"
   ]
  },
  {
   "cell_type": "markdown",
   "metadata": {},
   "source": [
    "The type of machine learning we'll be working on is supervised learning and that's because we have a label<br>\n",
    "We're to predict attendance rate, which is a continuous variable<br>\n",
    "We'll be using linear regression to predict our value because it allows us to understand the strength of relationships between variables\n",
    "\n",
    "We'll be adopting Decision Tree Regressor for our comparison model. <br>\n",
    "While linear model is excellent at capturing linear relationship between variable, it doesn't perform well when the relationship isn't linear.<br>\n",
    "Decision Tree performs well on non-linear relationships."
   ]
  },
  {
   "cell_type": "code",
   "execution_count": 22,
   "metadata": {},
   "outputs": [],
   "source": [
    "# Model Fitting\n",
    "# Choose and fit a baseline model\n",
    "# Choose and fit a comparison model\n",
    "\n",
    "# Start coding here... \n"
   ]
  },
  {
   "cell_type": "markdown",
   "metadata": {},
   "source": [
    "### Model Fitting"
   ]
  },
  {
   "cell_type": "code",
   "execution_count": 23,
   "metadata": {},
   "outputs": [
    {
     "data": {
      "text/html": [
       "<div>\n",
       "<style scoped>\n",
       "    .dataframe tbody tr th:only-of-type {\n",
       "        vertical-align: middle;\n",
       "    }\n",
       "\n",
       "    .dataframe tbody tr th {\n",
       "        vertical-align: top;\n",
       "    }\n",
       "\n",
       "    .dataframe thead th {\n",
       "        text-align: right;\n",
       "    }\n",
       "</style>\n",
       "<table border=\"1\" class=\"dataframe\">\n",
       "  <thead>\n",
       "    <tr style=\"text-align: right;\">\n",
       "      <th></th>\n",
       "      <th>day_of_week</th>\n",
       "      <th>time</th>\n",
       "      <th>class_category</th>\n",
       "      <th>class_capacity</th>\n",
       "      <th>days_before</th>\n",
       "      <th>attendance</th>\n",
       "      <th>age</th>\n",
       "      <th>new_students</th>\n",
       "      <th>over_6_month</th>\n",
       "      <th>attendance_ratio</th>\n",
       "    </tr>\n",
       "  </thead>\n",
       "  <tbody>\n",
       "    <tr>\n",
       "      <th>0</th>\n",
       "      <td>Wed</td>\n",
       "      <td>AM</td>\n",
       "      <td>Yoga</td>\n",
       "      <td>15</td>\n",
       "      <td>1</td>\n",
       "      <td>8</td>\n",
       "      <td>31.1</td>\n",
       "      <td>6</td>\n",
       "      <td>4</td>\n",
       "      <td>53.333333</td>\n",
       "    </tr>\n",
       "    <tr>\n",
       "      <th>1</th>\n",
       "      <td>Sun</td>\n",
       "      <td>PM</td>\n",
       "      <td>Aqua</td>\n",
       "      <td>15</td>\n",
       "      <td>3</td>\n",
       "      <td>8</td>\n",
       "      <td>27.0</td>\n",
       "      <td>7</td>\n",
       "      <td>8</td>\n",
       "      <td>53.333333</td>\n",
       "    </tr>\n",
       "    <tr>\n",
       "      <th>2</th>\n",
       "      <td>Mon</td>\n",
       "      <td>AM</td>\n",
       "      <td>Aqua</td>\n",
       "      <td>15</td>\n",
       "      <td>5</td>\n",
       "      <td>10</td>\n",
       "      <td>22.4</td>\n",
       "      <td>8</td>\n",
       "      <td>7</td>\n",
       "      <td>66.666667</td>\n",
       "    </tr>\n",
       "    <tr>\n",
       "      <th>3</th>\n",
       "      <td>Sun</td>\n",
       "      <td>PM</td>\n",
       "      <td>Strength</td>\n",
       "      <td>25</td>\n",
       "      <td>3</td>\n",
       "      <td>18</td>\n",
       "      <td>23.5</td>\n",
       "      <td>7</td>\n",
       "      <td>9</td>\n",
       "      <td>72.000000</td>\n",
       "    </tr>\n",
       "    <tr>\n",
       "      <th>4</th>\n",
       "      <td>Mon</td>\n",
       "      <td>AM</td>\n",
       "      <td>Yoga</td>\n",
       "      <td>15</td>\n",
       "      <td>5</td>\n",
       "      <td>10</td>\n",
       "      <td>29.8</td>\n",
       "      <td>5</td>\n",
       "      <td>7</td>\n",
       "      <td>66.666667</td>\n",
       "    </tr>\n",
       "  </tbody>\n",
       "</table>\n",
       "</div>"
      ],
      "text/plain": [
       "  day_of_week time class_category  class_capacity  days_before  attendance  \\\n",
       "0         Wed   AM           Yoga              15            1           8   \n",
       "1         Sun   PM           Aqua              15            3           8   \n",
       "2         Mon   AM           Aqua              15            5          10   \n",
       "3         Sun   PM       Strength              25            3          18   \n",
       "4         Mon   AM           Yoga              15            5          10   \n",
       "\n",
       "    age  new_students  over_6_month  attendance_ratio  \n",
       "0  31.1             6             4         53.333333  \n",
       "1  27.0             7             8         53.333333  \n",
       "2  22.4             8             7         66.666667  \n",
       "3  23.5             7             9         72.000000  \n",
       "4  29.8             5             7         66.666667  "
      ]
     },
     "execution_count": 23,
     "metadata": {},
     "output_type": "execute_result"
    }
   ],
   "source": [
    "fitness_class.head()"
   ]
  },
  {
   "cell_type": "code",
   "execution_count": 24,
   "metadata": {},
   "outputs": [
    {
     "data": {
      "text/html": [
       "<div>\n",
       "<style scoped>\n",
       "    .dataframe tbody tr th:only-of-type {\n",
       "        vertical-align: middle;\n",
       "    }\n",
       "\n",
       "    .dataframe tbody tr th {\n",
       "        vertical-align: top;\n",
       "    }\n",
       "\n",
       "    .dataframe thead th {\n",
       "        text-align: right;\n",
       "    }\n",
       "</style>\n",
       "<table border=\"1\" class=\"dataframe\">\n",
       "  <thead>\n",
       "    <tr style=\"text-align: right;\">\n",
       "      <th></th>\n",
       "      <th>day_of_week</th>\n",
       "      <th>time</th>\n",
       "      <th>class_category</th>\n",
       "      <th>class_capacity</th>\n",
       "      <th>days_before</th>\n",
       "      <th>attendance</th>\n",
       "      <th>age</th>\n",
       "      <th>new_students</th>\n",
       "      <th>over_6_month</th>\n",
       "      <th>attendance_ratio</th>\n",
       "    </tr>\n",
       "  </thead>\n",
       "  <tbody>\n",
       "    <tr>\n",
       "      <th>0</th>\n",
       "      <td>6</td>\n",
       "      <td>0</td>\n",
       "      <td>4</td>\n",
       "      <td>15</td>\n",
       "      <td>1</td>\n",
       "      <td>8</td>\n",
       "      <td>31.1</td>\n",
       "      <td>6</td>\n",
       "      <td>4</td>\n",
       "      <td>53.333333</td>\n",
       "    </tr>\n",
       "    <tr>\n",
       "      <th>1</th>\n",
       "      <td>3</td>\n",
       "      <td>1</td>\n",
       "      <td>0</td>\n",
       "      <td>15</td>\n",
       "      <td>3</td>\n",
       "      <td>8</td>\n",
       "      <td>27.0</td>\n",
       "      <td>7</td>\n",
       "      <td>8</td>\n",
       "      <td>53.333333</td>\n",
       "    </tr>\n",
       "    <tr>\n",
       "      <th>2</th>\n",
       "      <td>1</td>\n",
       "      <td>0</td>\n",
       "      <td>0</td>\n",
       "      <td>15</td>\n",
       "      <td>5</td>\n",
       "      <td>10</td>\n",
       "      <td>22.4</td>\n",
       "      <td>8</td>\n",
       "      <td>7</td>\n",
       "      <td>66.666667</td>\n",
       "    </tr>\n",
       "    <tr>\n",
       "      <th>3</th>\n",
       "      <td>3</td>\n",
       "      <td>1</td>\n",
       "      <td>3</td>\n",
       "      <td>25</td>\n",
       "      <td>3</td>\n",
       "      <td>18</td>\n",
       "      <td>23.5</td>\n",
       "      <td>7</td>\n",
       "      <td>9</td>\n",
       "      <td>72.000000</td>\n",
       "    </tr>\n",
       "    <tr>\n",
       "      <th>4</th>\n",
       "      <td>1</td>\n",
       "      <td>0</td>\n",
       "      <td>4</td>\n",
       "      <td>15</td>\n",
       "      <td>5</td>\n",
       "      <td>10</td>\n",
       "      <td>29.8</td>\n",
       "      <td>5</td>\n",
       "      <td>7</td>\n",
       "      <td>66.666667</td>\n",
       "    </tr>\n",
       "    <tr>\n",
       "      <th>...</th>\n",
       "      <td>...</td>\n",
       "      <td>...</td>\n",
       "      <td>...</td>\n",
       "      <td>...</td>\n",
       "      <td>...</td>\n",
       "      <td>...</td>\n",
       "      <td>...</td>\n",
       "      <td>...</td>\n",
       "      <td>...</td>\n",
       "      <td>...</td>\n",
       "    </tr>\n",
       "    <tr>\n",
       "      <th>760</th>\n",
       "      <td>2</td>\n",
       "      <td>0</td>\n",
       "      <td>0</td>\n",
       "      <td>15</td>\n",
       "      <td>1</td>\n",
       "      <td>4</td>\n",
       "      <td>38.5</td>\n",
       "      <td>5</td>\n",
       "      <td>6</td>\n",
       "      <td>26.666667</td>\n",
       "    </tr>\n",
       "    <tr>\n",
       "      <th>761</th>\n",
       "      <td>2</td>\n",
       "      <td>1</td>\n",
       "      <td>0</td>\n",
       "      <td>15</td>\n",
       "      <td>1</td>\n",
       "      <td>4</td>\n",
       "      <td>41.2</td>\n",
       "      <td>6</td>\n",
       "      <td>3</td>\n",
       "      <td>26.666667</td>\n",
       "    </tr>\n",
       "    <tr>\n",
       "      <th>762</th>\n",
       "      <td>3</td>\n",
       "      <td>0</td>\n",
       "      <td>1</td>\n",
       "      <td>15</td>\n",
       "      <td>4</td>\n",
       "      <td>12</td>\n",
       "      <td>26.1</td>\n",
       "      <td>8</td>\n",
       "      <td>9</td>\n",
       "      <td>80.000000</td>\n",
       "    </tr>\n",
       "    <tr>\n",
       "      <th>763</th>\n",
       "      <td>3</td>\n",
       "      <td>1</td>\n",
       "      <td>3</td>\n",
       "      <td>15</td>\n",
       "      <td>1</td>\n",
       "      <td>7</td>\n",
       "      <td>33.3</td>\n",
       "      <td>5</td>\n",
       "      <td>7</td>\n",
       "      <td>46.666667</td>\n",
       "    </tr>\n",
       "    <tr>\n",
       "      <th>764</th>\n",
       "      <td>6</td>\n",
       "      <td>0</td>\n",
       "      <td>0</td>\n",
       "      <td>15</td>\n",
       "      <td>5</td>\n",
       "      <td>6</td>\n",
       "      <td>28.4</td>\n",
       "      <td>4</td>\n",
       "      <td>4</td>\n",
       "      <td>40.000000</td>\n",
       "    </tr>\n",
       "  </tbody>\n",
       "</table>\n",
       "<p>762 rows × 10 columns</p>\n",
       "</div>"
      ],
      "text/plain": [
       "     day_of_week  time  class_category  class_capacity  days_before  \\\n",
       "0              6     0               4              15            1   \n",
       "1              3     1               0              15            3   \n",
       "2              1     0               0              15            5   \n",
       "3              3     1               3              25            3   \n",
       "4              1     0               4              15            5   \n",
       "..           ...   ...             ...             ...          ...   \n",
       "760            2     0               0              15            1   \n",
       "761            2     1               0              15            1   \n",
       "762            3     0               1              15            4   \n",
       "763            3     1               3              15            1   \n",
       "764            6     0               0              15            5   \n",
       "\n",
       "     attendance   age  new_students  over_6_month  attendance_ratio  \n",
       "0             8  31.1             6             4         53.333333  \n",
       "1             8  27.0             7             8         53.333333  \n",
       "2            10  22.4             8             7         66.666667  \n",
       "3            18  23.5             7             9         72.000000  \n",
       "4            10  29.8             5             7         66.666667  \n",
       "..          ...   ...           ...           ...               ...  \n",
       "760           4  38.5             5             6         26.666667  \n",
       "761           4  41.2             6             3         26.666667  \n",
       "762          12  26.1             8             9         80.000000  \n",
       "763           7  33.3             5             7         46.666667  \n",
       "764           6  28.4             4             4         40.000000  \n",
       "\n",
       "[762 rows x 10 columns]"
      ]
     },
     "execution_count": 24,
     "metadata": {},
     "output_type": "execute_result"
    }
   ],
   "source": [
    "from sklearn.preprocessing import LabelEncoder\n",
    "# Set up the LabelEncoder object\n",
    "enc = LabelEncoder()\n",
    "\n",
    "# Apply the encoding to the \"Accessible\" column\n",
    "fitness_class['day_of_week'] = enc.fit_transform(fitness_class['day_of_week'])\n",
    "fitness_class['time'] = enc.fit_transform(fitness_class['time'])\n",
    "fitness_class['class_category'] = enc.fit_transform(fitness_class['class_category'])\n",
    "fitness_class"
   ]
  },
  {
   "cell_type": "code",
   "execution_count": 25,
   "metadata": {},
   "outputs": [],
   "source": [
    "# Importing our model\n",
    "from sklearn.linear_model import LinearRegression\n",
    "from sklearn.model_selection import train_test_split"
   ]
  },
  {
   "cell_type": "code",
   "execution_count": 26,
   "metadata": {},
   "outputs": [
    {
     "data": {
      "text/plain": [
       "Index(['day_of_week', 'time', 'class_category', 'class_capacity',\n",
       "       'days_before', 'attendance', 'age', 'new_students', 'over_6_month',\n",
       "       'attendance_ratio'],\n",
       "      dtype='object')"
      ]
     },
     "execution_count": 26,
     "metadata": {},
     "output_type": "execute_result"
    }
   ],
   "source": [
    "columns = fitness_class.columns\n",
    "columns"
   ]
  },
  {
   "cell_type": "code",
   "execution_count": 27,
   "metadata": {},
   "outputs": [
    {
     "data": {
      "text/plain": [
       "((762, 9), (762,))"
      ]
     },
     "execution_count": 27,
     "metadata": {},
     "output_type": "execute_result"
    }
   ],
   "source": [
    "# Specifying our dependent and independent variables\n",
    "X, y = fitness_class[columns[:-1]], fitness_class[columns[-1]]\n",
    "X.shape, y.shape"
   ]
  },
  {
   "cell_type": "code",
   "execution_count": 28,
   "metadata": {},
   "outputs": [
    {
     "data": {
      "text/html": [
       "<div>\n",
       "<style scoped>\n",
       "    .dataframe tbody tr th:only-of-type {\n",
       "        vertical-align: middle;\n",
       "    }\n",
       "\n",
       "    .dataframe tbody tr th {\n",
       "        vertical-align: top;\n",
       "    }\n",
       "\n",
       "    .dataframe thead th {\n",
       "        text-align: right;\n",
       "    }\n",
       "</style>\n",
       "<table border=\"1\" class=\"dataframe\">\n",
       "  <thead>\n",
       "    <tr style=\"text-align: right;\">\n",
       "      <th></th>\n",
       "      <th>day_of_week</th>\n",
       "      <th>time</th>\n",
       "      <th>class_category</th>\n",
       "      <th>class_capacity</th>\n",
       "      <th>days_before</th>\n",
       "      <th>attendance</th>\n",
       "      <th>age</th>\n",
       "      <th>new_students</th>\n",
       "      <th>over_6_month</th>\n",
       "    </tr>\n",
       "  </thead>\n",
       "  <tbody>\n",
       "    <tr>\n",
       "      <th>530</th>\n",
       "      <td>3</td>\n",
       "      <td>0</td>\n",
       "      <td>3</td>\n",
       "      <td>15</td>\n",
       "      <td>1</td>\n",
       "      <td>9</td>\n",
       "      <td>33.7</td>\n",
       "      <td>4</td>\n",
       "      <td>9</td>\n",
       "    </tr>\n",
       "    <tr>\n",
       "      <th>90</th>\n",
       "      <td>6</td>\n",
       "      <td>1</td>\n",
       "      <td>1</td>\n",
       "      <td>15</td>\n",
       "      <td>1</td>\n",
       "      <td>6</td>\n",
       "      <td>30.5</td>\n",
       "      <td>4</td>\n",
       "      <td>9</td>\n",
       "    </tr>\n",
       "    <tr>\n",
       "      <th>269</th>\n",
       "      <td>2</td>\n",
       "      <td>0</td>\n",
       "      <td>2</td>\n",
       "      <td>15</td>\n",
       "      <td>1</td>\n",
       "      <td>9</td>\n",
       "      <td>29.2</td>\n",
       "      <td>6</td>\n",
       "      <td>9</td>\n",
       "    </tr>\n",
       "    <tr>\n",
       "      <th>643</th>\n",
       "      <td>5</td>\n",
       "      <td>1</td>\n",
       "      <td>4</td>\n",
       "      <td>15</td>\n",
       "      <td>2</td>\n",
       "      <td>11</td>\n",
       "      <td>24.9</td>\n",
       "      <td>6</td>\n",
       "      <td>10</td>\n",
       "    </tr>\n",
       "    <tr>\n",
       "      <th>387</th>\n",
       "      <td>0</td>\n",
       "      <td>1</td>\n",
       "      <td>0</td>\n",
       "      <td>25</td>\n",
       "      <td>4</td>\n",
       "      <td>21</td>\n",
       "      <td>15.1</td>\n",
       "      <td>10</td>\n",
       "      <td>9</td>\n",
       "    </tr>\n",
       "  </tbody>\n",
       "</table>\n",
       "</div>"
      ],
      "text/plain": [
       "     day_of_week  time  class_category  class_capacity  days_before  \\\n",
       "530            3     0               3              15            1   \n",
       "90             6     1               1              15            1   \n",
       "269            2     0               2              15            1   \n",
       "643            5     1               4              15            2   \n",
       "387            0     1               0              25            4   \n",
       "\n",
       "     attendance   age  new_students  over_6_month  \n",
       "530           9  33.7             4             9  \n",
       "90            6  30.5             4             9  \n",
       "269           9  29.2             6             9  \n",
       "643          11  24.9             6            10  \n",
       "387          21  15.1            10             9  "
      ]
     },
     "execution_count": 28,
     "metadata": {},
     "output_type": "execute_result"
    }
   ],
   "source": [
    "# Splitting our data\n",
    "X_train, X_test, y_train, y_test = train_test_split(X, y, test_size = 0.25, stratify = y)\n",
    "X_train.head()"
   ]
  },
  {
   "cell_type": "code",
   "execution_count": 29,
   "metadata": {},
   "outputs": [
    {
     "data": {
      "text/plain": [
       "array([-0.09736571,  0.39347208,  0.0294891 , -2.94643222, -0.04698396,\n",
       "        4.94961061, -0.21538794,  0.26153076,  0.4162749 ])"
      ]
     },
     "execution_count": 29,
     "metadata": {},
     "output_type": "execute_result"
    }
   ],
   "source": [
    "#Instatiating and fitting our model \n",
    "reg = LinearRegression()\n",
    "reg.fit(X_train, y_train)\n",
    "reg.coef_"
   ]
  },
  {
   "cell_type": "markdown",
   "metadata": {},
   "source": [
    "<br> Before moving on to evaluating our model, we'll adopt another model, decision tree regressor<br>"
   ]
  },
  {
   "cell_type": "code",
   "execution_count": 30,
   "metadata": {},
   "outputs": [],
   "source": [
    "# Importing our model\n",
    "from sklearn.tree import DecisionTreeRegressor"
   ]
  },
  {
   "cell_type": "code",
   "execution_count": 31,
   "metadata": {
    "tags": []
   },
   "outputs": [
    {
     "data": {
      "text/plain": [
       "DecisionTreeRegressor(ccp_alpha=0.0, criterion='mse', max_depth=None,\n",
       "                      max_features=None, max_leaf_nodes=None,\n",
       "                      min_impurity_decrease=0.0, min_impurity_split=None,\n",
       "                      min_samples_leaf=1, min_samples_split=2,\n",
       "                      min_weight_fraction_leaf=0.0, presort='deprecated',\n",
       "                      random_state=None, splitter='best')"
      ]
     },
     "execution_count": 31,
     "metadata": {},
     "output_type": "execute_result"
    }
   ],
   "source": [
    "tree = DecisionTreeRegressor()\n",
    "tree.fit(X_train, y_train)"
   ]
  },
  {
   "cell_type": "markdown",
   "metadata": {
    "tags": []
   },
   "source": [
    "## Model Evaluation\n",
    "Explain what the results of your evaluation tell you. You should:\n",
    "- Describe which metric you have selected to compare the models and why\n",
    "- Explain what the outcome of this evaluation tells you about the performance of your models\n",
    "- Identify, based on the evaluation, which you would consider to be the better performing approach\n",
    "\n",
    "*Write your description here*"
   ]
  },
  {
   "cell_type": "markdown",
   "metadata": {},
   "source": [
    "The root mean squared error for the linear regression model is 15.030893458222488<br>\n",
    "The root mean squared error for the Decision Tree regressor model is 2.238878112576995e-28<br>\n",
    "The evaluation shows that Decision tree regressor is a better model for the set problem"
   ]
  },
  {
   "cell_type": "code",
   "execution_count": 32,
   "metadata": {},
   "outputs": [],
   "source": [
    "# Model Evaluation\n",
    "# Choose a metric and evaluate the performance of the two models\n",
    "\n",
    "# Start coding here... "
   ]
  },
  {
   "cell_type": "code",
   "execution_count": 33,
   "metadata": {},
   "outputs": [],
   "source": [
    "from sklearn.metrics import mean_squared_error"
   ]
  },
  {
   "cell_type": "code",
   "execution_count": 34,
   "metadata": {},
   "outputs": [
    {
     "data": {
      "text/plain": [
       "13.136059797529041"
      ]
     },
     "execution_count": 34,
     "metadata": {},
     "output_type": "execute_result"
    }
   ],
   "source": [
    "reg_pred = reg.predict(X_test)\n",
    "reg_score = mean_squared_error(reg_pred, y_test)\n",
    "reg_score"
   ]
  },
  {
   "cell_type": "code",
   "execution_count": 35,
   "metadata": {},
   "outputs": [
    {
     "data": {
      "text/plain": [
       "3.6794785510120155e-28"
      ]
     },
     "execution_count": 35,
     "metadata": {},
     "output_type": "execute_result"
    }
   ],
   "source": [
    "tree_pred = tree.predict(X_test)\n",
    "tree_score = mean_squared_error(tree_pred, y_test)\n",
    "tree_score"
   ]
  },
  {
   "cell_type": "code",
   "execution_count": 36,
   "metadata": {},
   "outputs": [
    {
     "data": {
      "text/plain": [
       "array([53.33333333, 53.33333333, 66.66666667, 72.        , 66.66666667,\n",
       "       46.66666667, 60.        , 53.33333333, 80.        , 33.33333333])"
      ]
     },
     "execution_count": 36,
     "metadata": {},
     "output_type": "execute_result"
    }
   ],
   "source": [
    "tree_att_ratio = tree.predict(X)\n",
    "tree_att_ratio[:10]"
   ]
  },
  {
   "cell_type": "code",
   "execution_count": 37,
   "metadata": {},
   "outputs": [
    {
     "data": {
      "text/html": [
       "<div>\n",
       "<style scoped>\n",
       "    .dataframe tbody tr th:only-of-type {\n",
       "        vertical-align: middle;\n",
       "    }\n",
       "\n",
       "    .dataframe tbody tr th {\n",
       "        vertical-align: top;\n",
       "    }\n",
       "\n",
       "    .dataframe thead th {\n",
       "        text-align: right;\n",
       "    }\n",
       "</style>\n",
       "<table border=\"1\" class=\"dataframe\">\n",
       "  <thead>\n",
       "    <tr style=\"text-align: right;\">\n",
       "      <th></th>\n",
       "      <th>day_of_week</th>\n",
       "      <th>time</th>\n",
       "      <th>class_category</th>\n",
       "      <th>class_capacity</th>\n",
       "      <th>days_before</th>\n",
       "      <th>attendance</th>\n",
       "      <th>age</th>\n",
       "      <th>new_students</th>\n",
       "      <th>over_6_month</th>\n",
       "      <th>attendance_ratio</th>\n",
       "      <th>predicted ratio</th>\n",
       "    </tr>\n",
       "  </thead>\n",
       "  <tbody>\n",
       "    <tr>\n",
       "      <th>0</th>\n",
       "      <td>6</td>\n",
       "      <td>0</td>\n",
       "      <td>4</td>\n",
       "      <td>15</td>\n",
       "      <td>1</td>\n",
       "      <td>8</td>\n",
       "      <td>31.1</td>\n",
       "      <td>6</td>\n",
       "      <td>4</td>\n",
       "      <td>53.333333</td>\n",
       "      <td>53.333333</td>\n",
       "    </tr>\n",
       "    <tr>\n",
       "      <th>1</th>\n",
       "      <td>3</td>\n",
       "      <td>1</td>\n",
       "      <td>0</td>\n",
       "      <td>15</td>\n",
       "      <td>3</td>\n",
       "      <td>8</td>\n",
       "      <td>27.0</td>\n",
       "      <td>7</td>\n",
       "      <td>8</td>\n",
       "      <td>53.333333</td>\n",
       "      <td>53.333333</td>\n",
       "    </tr>\n",
       "    <tr>\n",
       "      <th>2</th>\n",
       "      <td>1</td>\n",
       "      <td>0</td>\n",
       "      <td>0</td>\n",
       "      <td>15</td>\n",
       "      <td>5</td>\n",
       "      <td>10</td>\n",
       "      <td>22.4</td>\n",
       "      <td>8</td>\n",
       "      <td>7</td>\n",
       "      <td>66.666667</td>\n",
       "      <td>66.666667</td>\n",
       "    </tr>\n",
       "    <tr>\n",
       "      <th>3</th>\n",
       "      <td>3</td>\n",
       "      <td>1</td>\n",
       "      <td>3</td>\n",
       "      <td>25</td>\n",
       "      <td>3</td>\n",
       "      <td>18</td>\n",
       "      <td>23.5</td>\n",
       "      <td>7</td>\n",
       "      <td>9</td>\n",
       "      <td>72.000000</td>\n",
       "      <td>72.000000</td>\n",
       "    </tr>\n",
       "    <tr>\n",
       "      <th>4</th>\n",
       "      <td>1</td>\n",
       "      <td>0</td>\n",
       "      <td>4</td>\n",
       "      <td>15</td>\n",
       "      <td>5</td>\n",
       "      <td>10</td>\n",
       "      <td>29.8</td>\n",
       "      <td>5</td>\n",
       "      <td>7</td>\n",
       "      <td>66.666667</td>\n",
       "      <td>66.666667</td>\n",
       "    </tr>\n",
       "    <tr>\n",
       "      <th>5</th>\n",
       "      <td>5</td>\n",
       "      <td>1</td>\n",
       "      <td>2</td>\n",
       "      <td>15</td>\n",
       "      <td>4</td>\n",
       "      <td>7</td>\n",
       "      <td>28.7</td>\n",
       "      <td>4</td>\n",
       "      <td>7</td>\n",
       "      <td>46.666667</td>\n",
       "      <td>46.666667</td>\n",
       "    </tr>\n",
       "    <tr>\n",
       "      <th>6</th>\n",
       "      <td>5</td>\n",
       "      <td>0</td>\n",
       "      <td>0</td>\n",
       "      <td>25</td>\n",
       "      <td>2</td>\n",
       "      <td>15</td>\n",
       "      <td>32.5</td>\n",
       "      <td>5</td>\n",
       "      <td>9</td>\n",
       "      <td>60.000000</td>\n",
       "      <td>60.000000</td>\n",
       "    </tr>\n",
       "    <tr>\n",
       "      <th>7</th>\n",
       "      <td>3</td>\n",
       "      <td>1</td>\n",
       "      <td>2</td>\n",
       "      <td>15</td>\n",
       "      <td>1</td>\n",
       "      <td>8</td>\n",
       "      <td>36.0</td>\n",
       "      <td>5</td>\n",
       "      <td>7</td>\n",
       "      <td>53.333333</td>\n",
       "      <td>53.333333</td>\n",
       "    </tr>\n",
       "    <tr>\n",
       "      <th>8</th>\n",
       "      <td>6</td>\n",
       "      <td>1</td>\n",
       "      <td>3</td>\n",
       "      <td>25</td>\n",
       "      <td>2</td>\n",
       "      <td>20</td>\n",
       "      <td>15.3</td>\n",
       "      <td>8</td>\n",
       "      <td>11</td>\n",
       "      <td>80.000000</td>\n",
       "      <td>80.000000</td>\n",
       "    </tr>\n",
       "    <tr>\n",
       "      <th>9</th>\n",
       "      <td>4</td>\n",
       "      <td>1</td>\n",
       "      <td>0</td>\n",
       "      <td>15</td>\n",
       "      <td>3</td>\n",
       "      <td>5</td>\n",
       "      <td>31.3</td>\n",
       "      <td>4</td>\n",
       "      <td>6</td>\n",
       "      <td>33.333333</td>\n",
       "      <td>33.333333</td>\n",
       "    </tr>\n",
       "    <tr>\n",
       "      <th>10</th>\n",
       "      <td>6</td>\n",
       "      <td>0</td>\n",
       "      <td>4</td>\n",
       "      <td>15</td>\n",
       "      <td>2</td>\n",
       "      <td>12</td>\n",
       "      <td>23.8</td>\n",
       "      <td>6</td>\n",
       "      <td>9</td>\n",
       "      <td>80.000000</td>\n",
       "      <td>80.000000</td>\n",
       "    </tr>\n",
       "    <tr>\n",
       "      <th>11</th>\n",
       "      <td>2</td>\n",
       "      <td>0</td>\n",
       "      <td>4</td>\n",
       "      <td>15</td>\n",
       "      <td>1</td>\n",
       "      <td>12</td>\n",
       "      <td>30.3</td>\n",
       "      <td>5</td>\n",
       "      <td>8</td>\n",
       "      <td>80.000000</td>\n",
       "      <td>80.000000</td>\n",
       "    </tr>\n",
       "    <tr>\n",
       "      <th>12</th>\n",
       "      <td>2</td>\n",
       "      <td>1</td>\n",
       "      <td>3</td>\n",
       "      <td>15</td>\n",
       "      <td>2</td>\n",
       "      <td>9</td>\n",
       "      <td>29.2</td>\n",
       "      <td>6</td>\n",
       "      <td>7</td>\n",
       "      <td>60.000000</td>\n",
       "      <td>60.000000</td>\n",
       "    </tr>\n",
       "    <tr>\n",
       "      <th>13</th>\n",
       "      <td>5</td>\n",
       "      <td>0</td>\n",
       "      <td>2</td>\n",
       "      <td>15</td>\n",
       "      <td>2</td>\n",
       "      <td>12</td>\n",
       "      <td>21.8</td>\n",
       "      <td>6</td>\n",
       "      <td>7</td>\n",
       "      <td>80.000000</td>\n",
       "      <td>80.000000</td>\n",
       "    </tr>\n",
       "    <tr>\n",
       "      <th>14</th>\n",
       "      <td>2</td>\n",
       "      <td>0</td>\n",
       "      <td>1</td>\n",
       "      <td>15</td>\n",
       "      <td>2</td>\n",
       "      <td>6</td>\n",
       "      <td>34.7</td>\n",
       "      <td>5</td>\n",
       "      <td>5</td>\n",
       "      <td>40.000000</td>\n",
       "      <td>40.000000</td>\n",
       "    </tr>\n",
       "  </tbody>\n",
       "</table>\n",
       "</div>"
      ],
      "text/plain": [
       "    day_of_week  time  class_category  class_capacity  days_before  \\\n",
       "0             6     0               4              15            1   \n",
       "1             3     1               0              15            3   \n",
       "2             1     0               0              15            5   \n",
       "3             3     1               3              25            3   \n",
       "4             1     0               4              15            5   \n",
       "5             5     1               2              15            4   \n",
       "6             5     0               0              25            2   \n",
       "7             3     1               2              15            1   \n",
       "8             6     1               3              25            2   \n",
       "9             4     1               0              15            3   \n",
       "10            6     0               4              15            2   \n",
       "11            2     0               4              15            1   \n",
       "12            2     1               3              15            2   \n",
       "13            5     0               2              15            2   \n",
       "14            2     0               1              15            2   \n",
       "\n",
       "    attendance   age  new_students  over_6_month  attendance_ratio  \\\n",
       "0            8  31.1             6             4         53.333333   \n",
       "1            8  27.0             7             8         53.333333   \n",
       "2           10  22.4             8             7         66.666667   \n",
       "3           18  23.5             7             9         72.000000   \n",
       "4           10  29.8             5             7         66.666667   \n",
       "5            7  28.7             4             7         46.666667   \n",
       "6           15  32.5             5             9         60.000000   \n",
       "7            8  36.0             5             7         53.333333   \n",
       "8           20  15.3             8            11         80.000000   \n",
       "9            5  31.3             4             6         33.333333   \n",
       "10          12  23.8             6             9         80.000000   \n",
       "11          12  30.3             5             8         80.000000   \n",
       "12           9  29.2             6             7         60.000000   \n",
       "13          12  21.8             6             7         80.000000   \n",
       "14           6  34.7             5             5         40.000000   \n",
       "\n",
       "    predicted ratio  \n",
       "0         53.333333  \n",
       "1         53.333333  \n",
       "2         66.666667  \n",
       "3         72.000000  \n",
       "4         66.666667  \n",
       "5         46.666667  \n",
       "6         60.000000  \n",
       "7         53.333333  \n",
       "8         80.000000  \n",
       "9         33.333333  \n",
       "10        80.000000  \n",
       "11        80.000000  \n",
       "12        60.000000  \n",
       "13        80.000000  \n",
       "14        40.000000  "
      ]
     },
     "execution_count": 37,
     "metadata": {},
     "output_type": "execute_result"
    }
   ],
   "source": [
    "fitness_class['predicted ratio'] = tree_att_ratio\n",
    "fitness_class.head(15)"
   ]
  },
  {
   "cell_type": "code",
   "execution_count": null,
   "metadata": {},
   "outputs": [],
   "source": []
  },
  {
   "cell_type": "code",
   "execution_count": null,
   "metadata": {},
   "outputs": [],
   "source": []
  }
 ],
 "metadata": {
  "colab": {
   "name": "Welcome to DataCamp Workspaces.ipynb",
   "provenance": []
  },
  "kernelspec": {
   "display_name": "Python 3",
   "language": "python",
   "name": "python3"
  },
  "language_info": {
   "codemirror_mode": {
    "name": "ipython",
    "version": 3
   },
   "file_extension": ".py",
   "mimetype": "text/x-python",
   "name": "python",
   "nbconvert_exporter": "python",
   "pygments_lexer": "ipython3",
   "version": "3.7.6"
  }
 },
 "nbformat": 4,
 "nbformat_minor": 5
}
